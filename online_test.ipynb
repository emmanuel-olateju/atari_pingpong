{
 "cells": [
  {
   "cell_type": "code",
   "execution_count": 1,
   "metadata": {},
   "outputs": [
    {
     "name": "stdout",
     "output_type": "stream",
     "text": [
      "pygame 2.5.2 (SDL 2.28.3, Python 3.12.3)\n",
      "Hello from the pygame community. https://www.pygame.org/contribute.html\n"
     ]
    }
   ],
   "source": [
    "import time\n",
    "import random\n",
    "import numpy as np\n",
    "from itertools import product\n",
    "import joblib\n",
    "import pygame\n",
    "from environments import atari_environments\n",
    "from atari_class_functions import aqn_set_state"
   ]
  },
  {
   "cell_type": "code",
   "execution_count": 2,
   "metadata": {},
   "outputs": [],
   "source": [
    "ENVIRONMENT_HEIGHT, ENVIRONMENT_WIDTH = 600, 840\n",
    "PADDLE_HEIGHT, PADDLE_WIDTH = 110, 10\n",
    "BALL_SIZE = 10\n",
    "\n",
    "env_params = {\n",
    "    \"HEIGHT\":ENVIRONMENT_HEIGHT,\n",
    "    \"WIDTH\":ENVIRONMENT_WIDTH,\n",
    "    \"PADDLE_HEIGHT\":PADDLE_HEIGHT,\n",
    "    \"PADDLE_WIDTH\":PADDLE_WIDTH,\n",
    "    \"BALL_SIZE\":10,\n",
    "    \"BALL_SPEED\":(random.choice([-7,7]),random.choice([-7,7])),\n",
    "    \"MISS_REWARD\":-5,\n",
    "    \"HIT_REWARD\":10,\n",
    "    \"PASSIVE_REWARD\":1,\n",
    "    \"RENDER_MODE\":False\n",
    "}\n",
    "env = atari_environments.pong_env(**env_params)"
   ]
  },
  {
   "cell_type": "markdown",
   "metadata": {},
   "source": [
    "#### AQN"
   ]
  },
  {
   "cell_type": "code",
   "execution_count": 3,
   "metadata": {},
   "outputs": [],
   "source": [
    "# Load AQN\n",
    "AQN = joblib.load(\"artifacts/models/aqn.sav\")\n",
    "\n",
    "# Ball Position Threshold To start Taking Actions\n",
    "__xth__, __yth__ = 4, 4\n",
    "\n",
    "# All Possible States\n",
    "__states__ = list(product(list(range(0,5)),list(range(0,5)),list(range(0,5)),list(range(0,2)),list(range(0,2))))"
   ]
  },
  {
   "cell_type": "code",
   "execution_count": 6,
   "metadata": {},
   "outputs": [
    {
     "ename": "error",
     "evalue": "video system not initialized",
     "output_type": "error",
     "traceback": [
      "\u001b[1;31m---------------------------------------------------------------------------\u001b[0m",
      "\u001b[1;31merror\u001b[0m                                     Traceback (most recent call last)",
      "Cell \u001b[1;32mIn[6], line 4\u001b[0m\n\u001b[0;32m      2\u001b[0m env\u001b[38;5;241m.\u001b[39mreset()     \n\u001b[0;32m      3\u001b[0m \u001b[38;5;28;01mwhile\u001b[39;00m running:\n\u001b[1;32m----> 4\u001b[0m     \u001b[38;5;28;01mfor\u001b[39;00m event \u001b[38;5;129;01min\u001b[39;00m pygame\u001b[38;5;241m.\u001b[39mevent\u001b[38;5;241m.\u001b[39mget():\n\u001b[0;32m      5\u001b[0m         \u001b[38;5;28;01mif\u001b[39;00m event\u001b[38;5;241m.\u001b[39mtype \u001b[38;5;241m==\u001b[39m pygame\u001b[38;5;241m.\u001b[39mQUIT:\n\u001b[0;32m      6\u001b[0m             running \u001b[38;5;241m=\u001b[39m \u001b[38;5;28;01mFalse\u001b[39;00m\n",
      "\u001b[1;31merror\u001b[0m: video system not initialized"
     ]
    }
   ],
   "source": [
    "running = True\n",
    "env.reset()     \n",
    "while running:\n",
    "    for event in pygame.event.get():\n",
    "        if event.type == pygame.QUIT:\n",
    "            running = False\n",
    "    \n",
    "    # Select and Take Action\n",
    "    state = aqn_set_state(env)\n",
    "    q = __states__.index(state)\n",
    "    q = AQN[\"Q_mat\"][q,:]\n",
    "    action_index = np.argmax(q)\n",
    "    prev_state,action,next_state,reward = env.step(action_index)\n",
    "    \n",
    "    # Render the current state\n",
    "    env.render()\n",
    "    \n",
    "    # Cap the frame rate to avoid maxing out the CPU\n",
    "    env.clock.tick(60)  # 60 FPS\n",
    "    \n",
    "    # Sleep briefly to allow Jupyter to handle other tasks\n",
    "    time.sleep(0.01)\n",
    "\n",
    "pygame.quit()"
   ]
  },
  {
   "cell_type": "code",
   "execution_count": null,
   "metadata": {},
   "outputs": [],
   "source": []
  }
 ],
 "metadata": {
  "kernelspec": {
   "display_name": "base",
   "language": "python",
   "name": "python3"
  },
  "language_info": {
   "codemirror_mode": {
    "name": "ipython",
    "version": 3
   },
   "file_extension": ".py",
   "mimetype": "text/x-python",
   "name": "python",
   "nbconvert_exporter": "python",
   "pygments_lexer": "ipython3",
   "version": "3.12.3"
  }
 },
 "nbformat": 4,
 "nbformat_minor": 2
}
