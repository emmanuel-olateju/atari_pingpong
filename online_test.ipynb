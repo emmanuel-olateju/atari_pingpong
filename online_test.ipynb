{
 "cells": [
  {
   "cell_type": "code",
   "execution_count": 1,
   "metadata": {},
   "outputs": [
    {
     "name": "stdout",
     "output_type": "stream",
     "text": [
      "pygame 2.5.2 (SDL 2.28.3, Python 3.12.3)\n",
      "Hello from the pygame community. https://www.pygame.org/contribute.html\n"
     ]
    }
   ],
   "source": [
    "import time\n",
    "import random\n",
    "import numpy as np\n",
    "from itertools import product\n",
    "import joblib\n",
    "import pygame\n",
    "from environments import atari_environments\n",
    "from atari_class_functions import aqn_set_state"
   ]
  },
  {
   "cell_type": "code",
   "execution_count": 2,
   "metadata": {},
   "outputs": [],
   "source": [
    "ENVIRONMENT_HEIGHT, ENVIRONMENT_WIDTH = 600, 840\n",
    "PADDLE_HEIGHT, PADDLE_WIDTH = 110, 10\n",
    "BALL_SIZE = 10\n",
    "\n",
    "env_params = {\n",
    "    \"HEIGHT\":ENVIRONMENT_HEIGHT,\n",
    "    \"WIDTH\":ENVIRONMENT_WIDTH,\n",
    "    \"PADDLE_HEIGHT\":PADDLE_HEIGHT,\n",
    "    \"PADDLE_WIDTH\":PADDLE_WIDTH,\n",
    "    \"BALL_SIZE\":10,\n",
    "    \"BALL_SPEED\":(random.choice([-7,7]),random.choice([-7,7])),\n",
    "    \"MISS_REWARD\":-5,\n",
    "    \"HIT_REWARD\":10,\n",
    "    \"PASSIVE_REWARD\":1,\n",
    "    \"RENDER_MODE\":False\n",
    "}\n",
    "env = atari_environments.pong_env(**env_params)"
   ]
  },
  {
   "cell_type": "markdown",
   "metadata": {},
   "source": [
    "#### AQN"
   ]
  },
  {
   "cell_type": "code",
   "execution_count": 3,
   "metadata": {},
   "outputs": [],
   "source": [
    "# Load AQN\n",
    "AQN = joblib.load(\"artifacts/models/aqn.sav\")\n",
    "\n",
    "# Ball Position Threshold To start Taking Actions\n",
    "__xth__, __yth__ = 4, 4\n",
    "\n",
    "# All Possible States\n",
    "__states__ = list(product(list(range(0,5)),list(range(0,5)),list(range(0,5)),list(range(0,2)),list(range(0,2))))\n",
    "\n",
    "alpha = 0.3\n",
    "gamma = 0.1\n",
    "epsilon = 0.05"
   ]
  },
  {
   "cell_type": "code",
   "execution_count": 4,
   "metadata": {},
   "outputs": [],
   "source": [
    "running = True\n",
    "env.reset()    \n",
    "while running:\n",
    "    for event in pygame.event.get():\n",
    "        if event.type == pygame.QUIT:\n",
    "            running = False\n",
    "    \n",
    "    # Select and Take Action\n",
    "    state = aqn_set_state(env)\n",
    "    # psi = __states__.index(state) # previous state index\n",
    "    q = __states__.index(state)\n",
    "    q = AQN[\"Q_mat\"][q,:]\n",
    "    n = random.random()\n",
    "    if n <= epsilon:\n",
    "        action_index = random.randint(0,len(env.__ACTION_SPACE__)-1)\n",
    "    else:\n",
    "        action_index = np.argmax(q)\n",
    "    prev_state,action,next_state,reward = env.step(action_index)\n",
    "\n",
    "    # state = aqn_set_state(env)\n",
    "    # nsi = __states__.index(state) #next/current state index\n",
    "    # AQN[\"Q_mat\"][psi,action_index] = AQN[\"Q_mat\"][psi,action_index] + alpha*(reward+(gamma*max(AQN[\"Q_mat\"][nsi,:]))-AQN[\"Q_mat\"][psi,action_index])\n",
    "    \n",
    "    # Render the current state\n",
    "    env.render()\n",
    "    \n",
    "    # Cap the frame rate to avoid maxing out the CPU\n",
    "    env.clock.tick(60)  # 60 FPS\n",
    "    \n",
    "    # Sleep briefly to allow Jupyter to handle other tasks\n",
    "    time.sleep(0.01)\n",
    "\n",
    "pygame.quit()"
   ]
  },
  {
   "cell_type": "code",
   "execution_count": null,
   "metadata": {},
   "outputs": [],
   "source": []
  }
 ],
 "metadata": {
  "kernelspec": {
   "display_name": "base",
   "language": "python",
   "name": "python3"
  },
  "language_info": {
   "codemirror_mode": {
    "name": "ipython",
    "version": 3
   },
   "file_extension": ".py",
   "mimetype": "text/x-python",
   "name": "python",
   "nbconvert_exporter": "python",
   "pygments_lexer": "ipython3",
   "version": "3.12.3"
  }
 },
 "nbformat": 4,
 "nbformat_minor": 2
}
